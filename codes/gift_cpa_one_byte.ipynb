{
 "cells": [
  {
   "cell_type": "code",
   "execution_count": 1,
   "metadata": {},
   "outputs": [],
   "source": [
    "import numpy as np\n",
    "import matplotlib.pyplot as plt\n",
    "from scipy.stats import linregress\n",
    "import time\n",
    "import pandas as pd"
   ]
  },
  {
   "cell_type": "code",
   "execution_count": 2,
   "metadata": {},
   "outputs": [
    {
     "name": "stdout",
     "output_type": "stream",
     "text": [
      "Number of traces: 1000\n",
      "Number of points: 100000 \n",
      "\n",
      "\n"
     ]
    }
   ],
   "source": [
    "#Location of files containing the traces\n",
    "#Modify appropriately\n",
    "trace_address = 'traces/trace.npy'\n",
    "nonce_address = 'traces/nonce_text.npy'\n",
    "plaintext_address = 'traces/plain_text.npy'\n",
    "key_address = 'traces/key.npy'\n",
    "header_address = 'traces/header_text.npy'\n",
    "\n",
    "#Load the traces, plaintext, nonce, key, headers into numpy arrays for processing\n",
    "trace_array = np.load(trace_address)\n",
    "nonce_array = np.load(nonce_address)\n",
    "pt_array = np.load(plaintext_address)\n",
    "key_array = np.load(key_address)\n",
    "header_array = np.load(header_address)\n",
    "\n",
    "#Type formatting to resolve some numpy errors\n",
    "nonce_array = nonce_array.astype(np.int64)\n",
    "\n",
    "print(\"Number of traces:\", trace_array.shape[0])\n",
    "print(\"Number of points:\", trace_array.shape[1], \"\\n\\n\")"
   ]
  },
  {
   "cell_type": "code",
   "execution_count": 3,
   "metadata": {},
   "outputs": [
    {
     "name": "stdout",
     "output_type": "stream",
     "text": [
      "[[ 30  76  31  50 180 244 129  74 151 132 200 230  27 171  21 170]]\n"
     ]
    }
   ],
   "source": [
    "print(key_array)"
   ]
  },
  {
   "cell_type": "code",
   "execution_count": 4,
   "metadata": {},
   "outputs": [],
   "source": [
    "# Round constants*\n",
    "GIFT_RC = [\n",
    "    0x01, 0x03, 0x07, 0x0F, 0x1F, 0x3E, 0x3D, 0x3B, 0x37, 0x2F,\n",
    "    0x1E, 0x3C, 0x39, 0x33, 0x27, 0x0E, 0x1D, 0x3A, 0x35, 0x2B,\n",
    "    0x16, 0x2C, 0x18, 0x30, 0x21, 0x02, 0x05, 0x0B, 0x17, 0x2E,\n",
    "    0x1C, 0x38, 0x31, 0x23, 0x06, 0x0D, 0x1B, 0x36, 0x2D, 0x1A\n",
    "]\n",
    "\n",
    "#Hamming weight - Counts the number of 1's\n",
    "HW = [bin(n).count(\"1\") for n in range(0, 256)]\n",
    "\n",
    "#Row Permutation Operation\n",
    "def rowperm(S, B0_pos, B1_pos, B2_pos, B3_pos):\n",
    "    T=0\n",
    "    for b in range(8):\n",
    "        T |= ((S>>(4*b+0))&0x1)<<(b + 8*B0_pos)\n",
    "        T |= ((S>>(4*b+1))&0x1)<<(b + 8*B1_pos)\n",
    "        T |= ((S>>(4*b+2))&0x1)<<(b + 8*B2_pos)\n",
    "        T |= ((S>>(4*b+3))&0x1)<<(b + 8*B3_pos)\n",
    "    return T\n",
    "\n",
    "#Generating the intermediate value based on input and keyguesses\n",
    "#The intermediate is correlated with the power traces to obtain the correct key\n",
    "#This implementation guesses one bytes of the key at a time.  \n",
    "def intermediate(P, keyguess, key_index):\n",
    "    #P: Plain Text \n",
    "    #keyguess : Part of U or V: (W2 || W3) or (W6 || W7) that needs to be guessed\n",
    "    #keyindex : Which byte of U & V is being attacked\n",
    "    \n",
    "    S = [0,0,0,0]\n",
    "    \n",
    "    # ===SubCells=== #\n",
    "    S[0] = (P[ 0]<<24) | (P[ 1]<<16) | (P[ 2]<<8) | P[ 3]\n",
    "    S[1] = (P[ 4]<<24) | (P[ 5]<<16) | (P[ 6]<<8) | P[ 7]\n",
    "    S[2] = (P[ 8]<<24) | (P[ 9]<<16) | (P[10]<<8) | P[11]\n",
    "    S[3] = (P[12]<<24) | (P[13]<<16) | (P[14]<<8) | P[15]\n",
    "\n",
    "    S[1] ^= S[0] & S[2]\n",
    "    S[0] ^= S[1] & S[3]\n",
    "    S[2] ^= S[0] | S[1]\n",
    "    S[3] ^= S[2]\n",
    "    S[1] ^= S[3]\n",
    "    S[3] ^= 0xffffffff\n",
    "    S[2] ^= S[0] & S[1]\n",
    "\n",
    "    T = S[0]\n",
    "    S[0] = S[3]\n",
    "    S[3] = T\n",
    "\n",
    "    # ===PermBits=== #\n",
    "    S[0] = rowperm(S[0],0,3,2,1)\n",
    "    S[1] = rowperm(S[1],1,0,3,2)\n",
    "    S[2] = rowperm(S[2],2,1,0,3)\n",
    "    S[3] = rowperm(S[3],3,2,1,0)\n",
    "\n",
    "    # ===AddRoundKey=== #\n",
    "    \n",
    "    #keyindex = 4: gives W2[0]\n",
    "    if key_index == 4:        \n",
    "        intermediate = ((S[2] >>  0) & 0b11111111) ^ keyguess\n",
    "    #keyindex = 5: gives W2[1]\n",
    "    elif key_index == 5:    \n",
    "        intermediate = ((S[2] >>  8) & 0b11111111) ^ keyguess\n",
    "    #keyindex = 6: gives W3[0]\n",
    "    elif key_index == 6:    \n",
    "        intermediate = ((S[2] >>  16) & 0b11111111) ^ keyguess\n",
    "    #keyindex = 7: gives W3[1]\n",
    "    elif key_index == 7:    \n",
    "        intermediate = ((S[2] >>  24) & 0b11111111) ^ keyguess\n",
    "    #keyindex = 12: gives W6[0]\n",
    "    elif key_index == 12:    \n",
    "        intermediate = ((S[1] >>  0) & 0b11111111) ^ keyguess\n",
    "    #keyindex = 13: gives W6[1]\n",
    "    elif key_index == 13:    \n",
    "        intermediate = ((S[1] >>  8) & 0b11111111) ^ keyguess\n",
    "    #keyindex = 14: gives W7[0]\n",
    "    elif key_index == 14:    \n",
    "        intermediate = ((S[1] >>  16) & 0b11111111) ^ keyguess\n",
    "    #keyindex = 15: gives W7[1]\n",
    "    elif key_index == 15:    \n",
    "        intermediate = ((S[1] >>  24) & 0b11111111) ^ keyguess\n",
    "    \n",
    "    return intermediate\n",
    "    \n",
    "#Conversion function - to resolve type formatting errors    \n",
    "def conversion(P):\n",
    "    Pdash = [0x00,0x00,0x00,0x00,0x00,0x00,0x00,0x00,0x00,0x00,0x00,0x00,0x00,0x00,0x00,0x00]\n",
    "    for i in range(16):\n",
    "        Pdash[i] = P[i]\n",
    "    return Pdash\n",
    "    "
   ]
  },
  {
   "cell_type": "code",
   "execution_count": 5,
   "metadata": {},
   "outputs": [
    {
     "name": "stdout",
     "output_type": "stream",
     "text": [
      "R4 =  31   Correlation =  0.003208892191261737\n"
     ]
    }
   ],
   "source": [
    "numtraces = trace_array.shape[0]  #Number of traces\n",
    "numpoints = trace_array.shape[1]  #Number of points in a trace\n",
    "\n",
    "#Points within which the correlating point lies in \n",
    "start_point = 0                   #Starting Point: Point from which the correlating point might lie in\n",
    "end_point = 5000                  #Ending Point: Point w which the correlating point might lie in\n",
    "\n",
    "crvs = np.zeros((256, numpoints))\n",
    "#Hamming Weight Matrix\n",
    "HW_matrix = np.zeros((numtraces, 256), dtype=np.uint8)\n",
    "\n",
    "#Stores the correlation value for each key guess\n",
    "temp = np.zeros(256)\n",
    "\n",
    "for kguess in range(0, 256):\n",
    "    \n",
    "    # Generate the hamming weight for each possible keybyte\n",
    "    for trace_no in range(numtraces):\n",
    "        nonce_temp = conversion(nonce_array[trace_no])\n",
    "        iv = intermediate(nonce_temp, kguess, 4)\n",
    "        HW_matrix[trace_no, kguess] = HW[iv]\n",
    "\n",
    "    # correlate the trace with the hamming weights        \n",
    "    hw = HW_matrix[:, kguess]\n",
    "    for point in range(start_point, end_point):\n",
    "        trc = trace_array[:, point]\n",
    "        crvs[kguess, point] = np.abs(linregress(hw, trc).slope)\n",
    "\n",
    "    #Finding the point in the trace which has maximum correlation        \n",
    "    temp[kguess] = np.max(crvs[kguess])\n",
    "\n",
    "#Finding the key guess that corresponds to maximum correlation\n",
    "key_estimated = np.argmax(temp)\n",
    "print(\"R4 = \",key_estimated, \"  Correlation = \", temp[key_estimated])\n"
   ]
  },
  {
   "cell_type": "code",
   "execution_count": 6,
   "metadata": {},
   "outputs": [
    {
     "name": "stdout",
     "output_type": "stream",
     "text": [
      "R5 =  0   Correlation =  0.002527467012681699\n"
     ]
    }
   ],
   "source": [
    "numtraces = trace_array.shape[0]  #Number of traces\n",
    "numpoints = trace_array.shape[1]  #Number of points in a trace\n",
    "\n",
    "#Points within which the correlating point lies in \n",
    "start_point = 0                   #Starting Point: Point from which the correlating point might lie in\n",
    "end_point = 5000                  #Ending Point: Point w which the correlating point might lie in\n",
    "\n",
    "crvs = np.zeros((256, numpoints))\n",
    "#Hamming Weight Matrix\n",
    "HW_matrix = np.zeros((numtraces, 256), dtype=np.uint8)\n",
    "\n",
    "#Stores the correlation value for each key guess\n",
    "temp = np.zeros(256)\n",
    "\n",
    "for kguess in range(0, 256):\n",
    "    \n",
    "    # Generate the hamming weight for each possible keybyte\n",
    "    for trace_no in range(numtraces):\n",
    "        nonce_temp = conversion(nonce_array[trace_no])\n",
    "        iv = intermediate(nonce_temp, kguess, 5)\n",
    "        HW_matrix[trace_no, kguess] = HW[iv]\n",
    "\n",
    "    # correlate the trace with the hamming weights        \n",
    "    hw = HW_matrix[:, kguess]\n",
    "    for point in range(start_point, end_point):\n",
    "        trc = trace_array[:, point]\n",
    "        crvs[kguess, point] = np.abs(linregress(hw, trc).slope)\n",
    "\n",
    "    #Finding the point in the trace which has maximum correlation        \n",
    "    temp[kguess] = np.max(crvs[kguess])\n",
    "\n",
    "#Finding the key guess that corresponds to maximum correlation\n",
    "key_estimated = np.argmax(temp)\n",
    "print(\"R5 = \",key_estimated, \"  Correlation = \", temp[key_estimated])\n"
   ]
  },
  {
   "cell_type": "code",
   "execution_count": 7,
   "metadata": {},
   "outputs": [
    {
     "name": "stdout",
     "output_type": "stream",
     "text": [
      "R6 =  56   Correlation =  0.002566231630705503\n"
     ]
    }
   ],
   "source": [
    "numtraces = trace_array.shape[0]  #Number of traces\n",
    "numpoints = trace_array.shape[1]  #Number of points in a trace\n",
    "\n",
    "#Points within which the correlating point lies in \n",
    "start_point = 0                   #Starting Point: Point from which the correlating point might lie in\n",
    "end_point = 5000                  #Ending Point: Point w which the correlating point might lie in\n",
    "\n",
    "crvs = np.zeros((256, numpoints))\n",
    "#Hamming Weight Matrix\n",
    "HW_matrix = np.zeros((numtraces, 256), dtype=np.uint8)\n",
    "\n",
    "#Stores the correlation value for each key guess\n",
    "temp = np.zeros(256)\n",
    "\n",
    "for kguess in range(0, 256):\n",
    "    \n",
    "    # Generate the hamming weight for each possible keybyte\n",
    "    for trace_no in range(numtraces):\n",
    "        nonce_temp = conversion(nonce_array[trace_no])\n",
    "        iv = intermediate(nonce_temp, kguess, 6)\n",
    "        HW_matrix[trace_no, kguess] = HW[iv]\n",
    "\n",
    "    # correlate the trace with the hamming weights        \n",
    "    hw = HW_matrix[:, kguess]\n",
    "    for point in range(start_point, end_point):\n",
    "        trc = trace_array[:, point]\n",
    "        crvs[kguess, point] = np.abs(linregress(hw, trc).slope)\n",
    "\n",
    "    #Finding the point in the trace which has maximum correlation        \n",
    "    temp[kguess] = np.max(crvs[kguess])\n",
    "\n",
    "#Finding the key guess that corresponds to maximum correlation\n",
    "key_estimated = np.argmax(temp)\n",
    "print(\"R6 = \",key_estimated, \"  Correlation = \", temp[key_estimated])\n"
   ]
  },
  {
   "cell_type": "code",
   "execution_count": 8,
   "metadata": {},
   "outputs": [
    {
     "name": "stdout",
     "output_type": "stream",
     "text": [
      "R7 =  3   Correlation =  0.003856829479547511\n"
     ]
    }
   ],
   "source": [
    "numtraces = trace_array.shape[0]  #Number of traces\n",
    "numpoints = trace_array.shape[1]  #Number of points in a trace\n",
    "\n",
    "#Points within which the correlating point lies in \n",
    "start_point = 0                   #Starting Point: Point from which the correlating point might lie in\n",
    "end_point = 5000                  #Ending Point: Point w which the correlating point might lie in\n",
    "\n",
    "crvs = np.zeros((256, numpoints))\n",
    "#Hamming Weight Matrix\n",
    "HW_matrix = np.zeros((numtraces, 256), dtype=np.uint8)\n",
    "\n",
    "#Stores the correlation value for each key guess\n",
    "temp = np.zeros(256)\n",
    "\n",
    "for kguess in range(0, 256):\n",
    "    \n",
    "    # Generate the hamming weight for each possible keybyte\n",
    "    for trace_no in range(numtraces):\n",
    "        nonce_temp = conversion(nonce_array[trace_no])\n",
    "        iv = intermediate(nonce_temp, kguess, 7)\n",
    "        HW_matrix[trace_no, kguess] = HW[iv]\n",
    "\n",
    "    # correlate the trace with the hamming weights        \n",
    "    hw = HW_matrix[:, kguess]\n",
    "    for point in range(start_point, end_point):\n",
    "        trc = trace_array[:, point]\n",
    "        crvs[kguess, point] = np.abs(linregress(hw, trc).slope)\n",
    "\n",
    "    #Finding the point in the trace which has maximum correlation        \n",
    "    temp[kguess] = np.max(crvs[kguess])\n",
    "\n",
    "#Finding the key guess that corresponds to maximum correlation\n",
    "key_estimated = np.argmax(temp)\n",
    "print(\"R7 = \",key_estimated, \"  Correlation = \", temp[key_estimated])\n"
   ]
  },
  {
   "cell_type": "code",
   "execution_count": 9,
   "metadata": {},
   "outputs": [
    {
     "name": "stdout",
     "output_type": "stream",
     "text": [
      "R12 =  1   Correlation =  0.0020635453486305567\n"
     ]
    }
   ],
   "source": [
    "numtraces = trace_array.shape[0]  #Number of traces\n",
    "numpoints = trace_array.shape[1]  #Number of points in a trace\n",
    "\n",
    "#Points within which the correlating point lies in \n",
    "start_point = 0                   #Starting Point: Point from which the correlating point might lie in\n",
    "end_point = 5000                  #Ending Point: Point w which the correlating point might lie in\n",
    "\n",
    "crvs = np.zeros((256, numpoints))\n",
    "#Hamming Weight Matrix\n",
    "HW_matrix = np.zeros((numtraces, 256), dtype=np.uint8)\n",
    "\n",
    "#Stores the correlation value for each key guess\n",
    "temp = np.zeros(256)\n",
    "\n",
    "for kguess in range(0, 256):\n",
    "    \n",
    "    # Generate the hamming weight for each possible keybyte\n",
    "    for trace_no in range(numtraces):\n",
    "        nonce_temp = conversion(nonce_array[trace_no])\n",
    "        iv = intermediate(nonce_temp, kguess, 12)\n",
    "        HW_matrix[trace_no, kguess] = HW[iv]\n",
    "\n",
    "    # correlate the trace with the hamming weights        \n",
    "    hw = HW_matrix[:, kguess]\n",
    "    for point in range(start_point, end_point):\n",
    "        trc = trace_array[:, point]\n",
    "        crvs[kguess, point] = np.abs(linregress(hw, trc).slope)\n",
    "\n",
    "    #Finding the point in the trace which has maximum correlation        \n",
    "    temp[kguess] = np.max(crvs[kguess])\n",
    "\n",
    "#Finding the key guess that corresponds to maximum correlation\n",
    "key_estimated = np.argmax(temp)\n",
    "print(\"R12 = \",key_estimated, \"  Correlation = \", temp[key_estimated])\n"
   ]
  },
  {
   "cell_type": "code",
   "execution_count": 10,
   "metadata": {},
   "outputs": [
    {
     "name": "stdout",
     "output_type": "stream",
     "text": [
      "R13 =  1   Correlation =  0.002523464382928459\n"
     ]
    }
   ],
   "source": [
    "numtraces = trace_array.shape[0]  #Number of traces\n",
    "numpoints = trace_array.shape[1]  #Number of points in a trace\n",
    "\n",
    "#Points within which the correlating point lies in \n",
    "start_point = 0                   #Starting Point: Point from which the correlating point might lie in\n",
    "end_point = 5000                  #Ending Point: Point w which the correlating point might lie in\n",
    "\n",
    "crvs = np.zeros((256, numpoints))\n",
    "#Hamming Weight Matrix\n",
    "HW_matrix = np.zeros((numtraces, 256), dtype=np.uint8)\n",
    "\n",
    "#Stores the correlation value for each key guess\n",
    "temp = np.zeros(256)\n",
    "\n",
    "for kguess in range(0, 256):\n",
    "    \n",
    "    # Generate the hamming weight for each possible keybyte\n",
    "    for trace_no in range(numtraces):\n",
    "        nonce_temp = conversion(nonce_array[trace_no])\n",
    "        iv = intermediate(nonce_temp, kguess, 13)\n",
    "        HW_matrix[trace_no, kguess] = HW[iv]\n",
    "\n",
    "    # correlate the trace with the hamming weights        \n",
    "    hw = HW_matrix[:, kguess]\n",
    "    for point in range(start_point, end_point):\n",
    "        trc = trace_array[:, point]\n",
    "        crvs[kguess, point] = np.abs(linregress(hw, trc).slope)\n",
    "\n",
    "    #Finding the point in the trace which has maximum correlation        \n",
    "    temp[kguess] = np.max(crvs[kguess])\n",
    "\n",
    "#Finding the key guess that corresponds to maximum correlation\n",
    "key_estimated = np.argmax(temp)\n",
    "print(\"R13 = \",key_estimated, \"  Correlation = \", temp[key_estimated])\n"
   ]
  },
  {
   "cell_type": "code",
   "execution_count": 11,
   "metadata": {},
   "outputs": [
    {
     "name": "stdout",
     "output_type": "stream",
     "text": [
      "R14 =  118   Correlation =  0.003973172837808248\n"
     ]
    }
   ],
   "source": [
    "numtraces = trace_array.shape[0]  #Number of traces\n",
    "numpoints = trace_array.shape[1]  #Number of points in a trace\n",
    "\n",
    "#Points within which the correlating point lies in \n",
    "start_point = 0                   #Starting Point: Point from which the correlating point might lie in\n",
    "end_point = 5000                  #Ending Point: Point w which the correlating point might lie in\n",
    "\n",
    "crvs = np.zeros((256, numpoints))\n",
    "#Hamming Weight Matrix\n",
    "HW_matrix = np.zeros((numtraces, 256), dtype=np.uint8)\n",
    "\n",
    "#Stores the correlation value for each key guess\n",
    "temp = np.zeros(256)\n",
    "\n",
    "for kguess in range(0, 256):\n",
    "    \n",
    "    # Generate the hamming weight for each possible keybyte\n",
    "    for trace_no in range(numtraces):\n",
    "        nonce_temp = conversion(nonce_array[trace_no])\n",
    "        iv = intermediate(nonce_temp, kguess, 14)\n",
    "        HW_matrix[trace_no, kguess] = HW[iv]\n",
    "\n",
    "    # correlate the trace with the hamming weights        \n",
    "    hw = HW_matrix[:, kguess]\n",
    "    for point in range(start_point, end_point):\n",
    "        trc = trace_array[:, point]\n",
    "        crvs[kguess, point] = np.abs(linregress(hw, trc).slope)\n",
    "\n",
    "    #Finding the point in the trace which has maximum correlation        \n",
    "    temp[kguess] = np.max(crvs[kguess])\n",
    "\n",
    "#Finding the key guess that corresponds to maximum correlation\n",
    "key_estimated = np.argmax(temp)\n",
    "print(\"R14 = \",key_estimated, \"  Correlation = \", temp[key_estimated])\n"
   ]
  },
  {
   "cell_type": "code",
   "execution_count": 12,
   "metadata": {},
   "outputs": [
    {
     "name": "stdout",
     "output_type": "stream",
     "text": [
      "R15 =  193   Correlation =  0.0030985375272982196\n"
     ]
    }
   ],
   "source": [
    "numtraces = trace_array.shape[0]  #Number of traces\n",
    "numpoints = trace_array.shape[1]  #Number of points in a trace\n",
    "\n",
    "#Points within which the correlating point lies in \n",
    "start_point = 0                   #Starting Point: Point from which the correlating point might lie in\n",
    "end_point = 5000                  #Ending Point: Point w which the correlating point might lie in\n",
    "\n",
    "crvs = np.zeros((256, numpoints))\n",
    "#Hamming Weight Matrix\n",
    "HW_matrix = np.zeros((numtraces, 256), dtype=np.uint8)\n",
    "\n",
    "#Stores the correlation value for each key guess\n",
    "temp = np.zeros(256)\n",
    "\n",
    "for kguess in range(0, 256):\n",
    "    \n",
    "    # Generate the hamming weight for each possible keybyte\n",
    "    for trace_no in range(numtraces):\n",
    "        nonce_temp = conversion(nonce_array[trace_no])\n",
    "        iv = intermediate(nonce_temp, kguess, 15)\n",
    "        HW_matrix[trace_no, kguess] = HW[iv]\n",
    "\n",
    "    # correlate the trace with the hamming weights        \n",
    "    hw = HW_matrix[:, kguess]\n",
    "    for point in range(start_point, end_point):\n",
    "        trc = trace_array[:, point]\n",
    "        crvs[kguess, point] = np.abs(linregress(hw, trc).slope)\n",
    "\n",
    "    #Finding the point in the trace which has maximum correlation        \n",
    "    temp[kguess] = np.max(crvs[kguess])\n",
    "\n",
    "#Finding the key guess that corresponds to maximum correlation\n",
    "key_estimated = np.argmax(temp)\n",
    "print(\"R15 = \",key_estimated, \"  Correlation = \", temp[key_estimated])\n"
   ]
  },
  {
   "cell_type": "code",
   "execution_count": null,
   "metadata": {},
   "outputs": [],
   "source": []
  }
 ],
 "metadata": {
  "kernelspec": {
   "display_name": "Python 3",
   "language": "python",
   "name": "python3"
  },
  "language_info": {
   "codemirror_mode": {
    "name": "ipython",
    "version": 3
   },
   "file_extension": ".py",
   "mimetype": "text/x-python",
   "name": "python",
   "nbconvert_exporter": "python",
   "pygments_lexer": "ipython3",
   "version": "3.8.10"
  },
  "vscode": {
   "interpreter": {
    "hash": "47fa41328b58a8cbe8650b00504f86a4b96883221e41665594208f5bbc5815d6"
   }
  }
 },
 "nbformat": 4,
 "nbformat_minor": 2
}
